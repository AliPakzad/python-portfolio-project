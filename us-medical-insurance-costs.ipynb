{
 "cells": [
  {
   "cell_type": "markdown",
   "metadata": {},
   "source": [
    "# U.S. Medical Insurance Costs\n",
    "\n",
    " In this project, I will be investigating a medical insurance costs dataset in a insurance.csv file using the Python skills.The goal of this project will be to analyze various attributes within insurance.csv to learn more about the patient information in the file and gain insight into potential use cases for the dataset."
   ]
  },
  {
   "cell_type": "code",
   "execution_count": 3,
   "metadata": {},
   "outputs": [],
   "source": [
    "#import csv library\n",
    "import csv\n",
    "import pandas as pd"
   ]
  },
  {
   "cell_type": "markdown",
   "metadata": {},
   "source": [
    "First of all, I have to take a look at insurance.csv and extracts it data to a DataFrame object:"
   ]
  },
  {
   "cell_type": "code",
   "execution_count": 5,
   "metadata": {},
   "outputs": [
    {
     "name": "stdout",
     "output_type": "stream",
     "text": [
      "   age     sex     bmi  children smoker     region      charges\n",
      "0   19  female  27.900         0    yes  southwest  16884.92400\n",
      "1   18    male  33.770         1     no  southeast   1725.55230\n",
      "2   28    male  33.000         3     no  southeast   4449.46200\n",
      "3   33    male  22.705         0     no  northwest  21984.47061\n",
      "4   32    male  28.880         0     no  northwest   3866.85520\n"
     ]
    }
   ],
   "source": [
    "insuranceDF = pd.read_csv(\"insurance.csv\")\n",
    "\n",
    "print(insuranceDF.head())"
   ]
  },
  {
   "cell_type": "markdown",
   "metadata": {},
   "source": [
    "Now I would kike to do some analyses:\n",
    "  \n",
    "* Find out the average age of the patients in the dataset.\n",
    "\n",
    "* Analyze where a majority of the individuals are from.\n",
    "\n",
    "* Look at the different costs between smokers vs. non-smokers.\n",
    "\n",
    "* Figure out what the average age is for someone who has at least one child in this dataset."
   ]
  },
  {
   "cell_type": "code",
   "execution_count": 6,
   "metadata": {},
   "outputs": [
    {
     "name": "stdout",
     "output_type": "stream",
     "text": [
      "Average age of the patients is:\n",
      "39.20702541106129\n"
     ]
    }
   ],
   "source": [
    "#Find out the average age of the patients in the dataset:\n",
    "\n",
    "avg_age_patients = insuranceDF.age.mean()\n",
    "\n",
    "print(\"Average age of the patients is:\")\n",
    "print(avg_age_patients)"
   ]
  },
  {
   "cell_type": "code",
   "execution_count": 18,
   "metadata": {},
   "outputs": [
    {
     "name": "stdout",
     "output_type": "stream",
     "text": [
      "region\n",
      "northeast    324\n",
      "northwest    325\n",
      "southeast    364\n",
      "southwest    325\n",
      "Name: region, dtype: int64\n",
      "\n",
      "The majority of the individuals are from southeast\n"
     ]
    }
   ],
   "source": [
    "#Analyze where a majority of the individuals are from.\n",
    "\n",
    "region_series = insuranceDF.groupby(\"region\").region.count()\n",
    "print(region_series)\n",
    "print()\n",
    "print(\"The majority of the individuals are from southeast\")"
   ]
  },
  {
   "cell_type": "code",
   "execution_count": 11,
   "metadata": {},
   "outputs": [
    {
     "name": "stdout",
     "output_type": "stream",
     "text": [
      "smoker\n",
      "no     8.974061e+06\n",
      "yes    8.781764e+06\n",
      "Name: charges, dtype: float64\n"
     ]
    }
   ],
   "source": [
    "#Look at the different costs between smokers vs. non-smokers.\n",
    "costs_series = insuranceDF.groupby(\"smoker\").charges.sum()\n",
    "\n",
    "print(costs_series)"
   ]
  },
  {
   "cell_type": "code",
   "execution_count": 17,
   "metadata": {},
   "outputs": [
    {
     "name": "stdout",
     "output_type": "stream",
     "text": [
      "39.78010471204188\n"
     ]
    }
   ],
   "source": [
    "#Figure out what the average age is for someone who has at least one child in this dataset.\n",
    "\n",
    "avg_age_for_more_than_one_child = insuranceDF[insuranceDF.children >= 1].age.mean()\n",
    "\n",
    "print(avg_age_for_more_than_one_child)\n"
   ]
  }
 ],
 "metadata": {
  "kernelspec": {
   "display_name": "Python 3",
   "language": "python",
   "name": "python3"
  },
  "language_info": {
   "codemirror_mode": {
    "name": "ipython",
    "version": 3
   },
   "file_extension": ".py",
   "mimetype": "text/x-python",
   "name": "python",
   "nbconvert_exporter": "python",
   "pygments_lexer": "ipython3",
   "version": "3.8.0"
  }
 },
 "nbformat": 4,
 "nbformat_minor": 4
}
